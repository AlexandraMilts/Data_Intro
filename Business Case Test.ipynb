{
 "cells": [
  {
   "cell_type": "code",
   "execution_count": 31,
   "metadata": {},
   "outputs": [],
   "source": [
    "import numpy as np\n",
    "import tensorflow as tf\n"
   ]
  },
  {
   "cell_type": "code",
   "execution_count": 35,
   "metadata": {},
   "outputs": [],
   "source": [
    "\n",
    "train_data = np.load('Audiobooks_data_train.npz')\n",
    "\n",
    "train_inputs = train_data['inputs'].astype(np.float)\n",
    "train_targets = train_data['targets'].astype(np.int)"
   ]
  },
  {
   "cell_type": "code",
   "execution_count": 36,
   "metadata": {},
   "outputs": [
    {
     "name": "stdout",
     "output_type": "stream",
     "text": [
      "[[ 0.12358345 -0.24394131 -0.36579513 ... -0.43517044 -0.20062588\n",
      "   0.66933878]\n",
      " [ 1.20641703  0.37371202 -0.61257463 ... -0.43517044 -0.20062588\n",
      "  -0.75918797]\n",
      " [-0.74268341 -0.73806398 -0.12503464 ... -0.43517044 -0.20062588\n",
      "  -0.40474148]\n",
      " ...\n",
      " [ 1.20641703  0.37371202 -0.36579513 ...  2.34557872 -0.20062588\n",
      "   0.47600433]\n",
      " [-2.04208371 -1.47924798  0.16989696 ... -0.43517044 -0.20062588\n",
      "  -0.75918797]\n",
      " [-2.47521714 -1.72630932 -0.36579513 ... -0.43517044 -0.20062588\n",
      "  -0.75918797]]\n",
      "[0 0 1 ... 0 0 1]\n"
     ]
    }
   ],
   "source": [
    "print(train_inputs)\n",
    "print(train_targets)"
   ]
  },
  {
   "cell_type": "code",
   "execution_count": 40,
   "metadata": {},
   "outputs": [],
   "source": [
    "test_data = np.load('Audiobooks_data_test.npz')\n",
    "\n",
    "test_inputs = test_data['inputs'].astype(np.float)\n",
    "test_targets = test_data['targets'].astype(np.int)\n",
    "\n",
    "validation_data = np.load('Audiobooks_data_validation.npz')\n",
    "\n",
    "validation_inputs = validation_data['inputs'].astype(np.float)\n",
    "validation_targets = validation_data['targets'].astype(np.int)"
   ]
  },
  {
   "cell_type": "markdown",
   "metadata": {},
   "source": [
    "# # Model"
   ]
  },
  {
   "cell_type": "code",
   "execution_count": 53,
   "metadata": {},
   "outputs": [],
   "source": [
    "input_size = 10\n",
    "output_size = 2\n",
    "# Use same hidden layer size for both hidden layers. Not a necessity.\n",
    "hidden_layer_size = 200\n",
    "    \n",
    "# define how the model will look like\n",
    "model = tf.keras.Sequential([\n",
    "    \n",
    "  \n",
    "    # tf.keras.layers.Dense is basically implementing: output = activation(dot(input, weight) + bias)\n",
    "    # it takes several arguments, but the most important ones for us are the hidden_layer_size and the activation function\n",
    "    tf.keras.layers.Dense(hidden_layer_size, activation='relu'), # 1st hidden layer\n",
    "    tf.keras.layers.Dense(hidden_layer_size, activation='relu'), # 2nd hidden layer\n",
    "    tf.keras.layers.Dense(hidden_layer_size, activation='relu'), # 3rd hidden layer\n",
    "    tf.keras.layers.Dense(hidden_layer_size, activation='relu'), # 4th hidden layer\n",
    "    \n",
    "    # the final layer is no different, we just make sure to activate it with softmax\n",
    "    tf.keras.layers.Dense(output_size, activation='softmax') # output layer\n",
    "])\n",
    "\n"
   ]
  },
  {
   "cell_type": "markdown",
   "metadata": {},
   "source": [
    "# Choose the optimizer and the loss function"
   ]
  },
  {
   "cell_type": "code",
   "execution_count": 54,
   "metadata": {},
   "outputs": [],
   "source": [
    "# we define the optimizer we'd like to use, \n",
    "# the loss function, \n",
    "# and the metrics we are interested in obtaining at each iteration\n",
    "model.compile(optimizer='adam', loss='sparse_categorical_crossentropy', metrics=['accuracy'])"
   ]
  },
  {
   "cell_type": "markdown",
   "metadata": {},
   "source": [
    "# Training"
   ]
  },
  {
   "cell_type": "code",
   "execution_count": 55,
   "metadata": {},
   "outputs": [
    {
     "name": "stdout",
     "output_type": "stream",
     "text": [
      "Train on 3579 samples, validate on 447 samples\n",
      "Epoch 1/100\n",
      "3579/3579 - 1s - loss: 0.4856 - accuracy: 0.7415 - val_loss: 0.4559 - val_accuracy: 0.7763\n",
      "Epoch 2/100\n",
      "3579/3579 - 0s - loss: 0.4103 - accuracy: 0.7916 - val_loss: 0.4529 - val_accuracy: 0.7562\n",
      "Epoch 3/100\n",
      "3579/3579 - 0s - loss: 0.4047 - accuracy: 0.7941 - val_loss: 0.4288 - val_accuracy: 0.7606\n",
      "Epoch 4/100\n",
      "3579/3579 - 0s - loss: 0.3749 - accuracy: 0.8080 - val_loss: 0.3892 - val_accuracy: 0.7919\n",
      "Epoch 5/100\n",
      "3579/3579 - 0s - loss: 0.3601 - accuracy: 0.8097 - val_loss: 0.4026 - val_accuracy: 0.7651\n",
      "Epoch 6/100\n",
      "3579/3579 - 0s - loss: 0.3659 - accuracy: 0.8044 - val_loss: 0.3889 - val_accuracy: 0.7897\n",
      "Epoch 7/100\n",
      "3579/3579 - 0s - loss: 0.3601 - accuracy: 0.8086 - val_loss: 0.3813 - val_accuracy: 0.8009\n",
      "Epoch 8/100\n",
      "3579/3579 - 0s - loss: 0.3567 - accuracy: 0.8122 - val_loss: 0.3920 - val_accuracy: 0.7718\n",
      "Epoch 9/100\n",
      "3579/3579 - 0s - loss: 0.3529 - accuracy: 0.8100 - val_loss: 0.3753 - val_accuracy: 0.8076\n",
      "Epoch 10/100\n",
      "3579/3579 - 0s - loss: 0.3450 - accuracy: 0.8145 - val_loss: 0.3894 - val_accuracy: 0.7897\n",
      "Epoch 11/100\n",
      "3579/3579 - 0s - loss: 0.3492 - accuracy: 0.8100 - val_loss: 0.3716 - val_accuracy: 0.8076\n",
      "Epoch 12/100\n",
      "3579/3579 - 0s - loss: 0.3440 - accuracy: 0.8150 - val_loss: 0.3725 - val_accuracy: 0.7987\n",
      "Epoch 13/100\n",
      "3579/3579 - 0s - loss: 0.3412 - accuracy: 0.8136 - val_loss: 0.3796 - val_accuracy: 0.7718\n",
      "Epoch 14/100\n",
      "3579/3579 - 0s - loss: 0.3401 - accuracy: 0.8226 - val_loss: 0.3777 - val_accuracy: 0.8098\n",
      "Epoch 15/100\n",
      "3579/3579 - 0s - loss: 0.3402 - accuracy: 0.8178 - val_loss: 0.3848 - val_accuracy: 0.7740\n",
      "Epoch 16/100\n",
      "3579/3579 - 0s - loss: 0.3406 - accuracy: 0.8175 - val_loss: 0.3974 - val_accuracy: 0.8031\n"
     ]
    },
    {
     "data": {
      "text/plain": [
       "<tensorflow.python.keras.callbacks.History at 0x28f98e251d0>"
      ]
     },
     "execution_count": 55,
     "metadata": {},
     "output_type": "execute_result"
    }
   ],
   "source": [
    "batch_size = 100\n",
    "\n",
    "max_epochs = 100\n",
    "\n",
    "early_stopping = tf.keras.callbacks.EarlyStopping(patience =5)\n",
    "\n",
    "model.fit(train_inputs,\n",
    "         train_targets,\n",
    "         batch_size = batch_size,\n",
    "         epochs = max_epochs,\n",
    "         callbacks = [early_stopping],\n",
    "         validation_data = (validation_inputs, validation_targets),\n",
    "         verbose = 2)"
   ]
  },
  {
   "cell_type": "markdown",
   "metadata": {},
   "source": [
    "# Test the model"
   ]
  },
  {
   "cell_type": "code",
   "execution_count": 47,
   "metadata": {},
   "outputs": [
    {
     "name": "stdout",
     "output_type": "stream",
     "text": [
      "448/448 [==============================] - 0s 165us/sample - loss: 0.3664 - accuracy: 0.7991\n"
     ]
    }
   ],
   "source": [
    "test_loss, test_accuracy = model.evaluate(test_inputs, test_targets)"
   ]
  },
  {
   "cell_type": "code",
   "execution_count": null,
   "metadata": {},
   "outputs": [],
   "source": []
  }
 ],
 "metadata": {
  "kernelspec": {
   "display_name": "Python [conda env:py3-TF2.0] *",
   "language": "python",
   "name": "conda-env-py3-TF2.0-py"
  },
  "language_info": {
   "codemirror_mode": {
    "name": "ipython",
    "version": 3
   },
   "file_extension": ".py",
   "mimetype": "text/x-python",
   "name": "python",
   "nbconvert_exporter": "python",
   "pygments_lexer": "ipython3",
   "version": "3.7.3"
  }
 },
 "nbformat": 4,
 "nbformat_minor": 2
}
